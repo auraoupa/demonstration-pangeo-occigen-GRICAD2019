{
 "cells": [
  {
   "cell_type": "markdown",
   "metadata": {},
   "source": [
    "## Librairies"
   ]
  },
  {
   "cell_type": "code",
   "execution_count": 1,
   "metadata": {},
   "outputs": [],
   "source": [
    "import warnings\n",
    "warnings.filterwarnings(\"ignore\")\n",
    "\n",
    "import xarray as xr \n",
    "import dask \n",
    "import numpy as np \n",
    "import os \n",
    "import time \n",
    "import glob\n",
    "from datetime import date\n",
    "today=date.today()\n",
    "\n",
    "import sys\n",
    "sys.path.insert(0,'/home/albert7a/git/xscale')\n",
    "import xscale\n",
    "\n",
    "import xscale.spectral.fft as xfft\n",
    "from xscale.spectral.tools import plot_spectrum\n",
    "import xscale.signal.generator as xgen\n",
    "\n",
    "\n",
    "import matplotlib.pyplot as plt\n",
    "params = {'figure.figsize' : (18, 10),'legend.fontsize': 16,'xtick.labelsize':16,'ytick.labelsize':16,'axes.labelsize':16,'font.size':16}\n",
    "plt.rcParams.update(params)\n"
   ]
  },
  {
   "cell_type": "markdown",
   "metadata": {},
   "source": [
    "## Dataset"
   ]
  },
  {
   "cell_type": "markdown",
   "metadata": {},
   "source": [
    "### Format netcdf"
   ]
  },
  {
   "cell_type": "code",
   "execution_count": null,
   "metadata": {},
   "outputs": [],
   "source": [
    "data_dir = '/store/CT1/hmg2840/lbrodeau/eNATL60/'\n",
    "tfilename = sorted(glob.glob(data_dir+'eNATL60-BLBT02*-S/*/eNATL60-BLBT02*_1h_*_gridT-2D_*.nc'))\n",
    "filename =tfilename[0]\n"
   ]
  },
  {
   "cell_type": "code",
   "execution_count": null,
   "metadata": {},
   "outputs": [],
   "source": [
    "%time dsn=xr.open_mfdataset(tfilename)['sossheig']\n"
   ]
  },
  {
   "cell_type": "code",
   "execution_count": null,
   "metadata": {},
   "outputs": [],
   "source": [
    "dsn"
   ]
  },
  {
   "cell_type": "code",
   "execution_count": null,
   "metadata": {},
   "outputs": [],
   "source": [
    "print(dsn.nbytes/1e9)"
   ]
  },
  {
   "cell_type": "markdown",
   "metadata": {},
   "source": [
    "### Format zarr"
   ]
  },
  {
   "cell_type": "code",
   "execution_count": 2,
   "metadata": {},
   "outputs": [
    {
     "name": "stdout",
     "output_type": "stream",
     "text": [
      "CPU times: user 157 ms, sys: 83.1 ms, total: 241 ms\n",
      "Wall time: 1.61 s\n"
     ]
    }
   ],
   "source": [
    "%time ds=xr.open_zarr('/store/albert7a/eNATL60/zarr/eNATL60-BLBT02-SSH-1h')\n",
    "ds_sorted=ds.sortby('time_counter')"
   ]
  },
  {
   "cell_type": "code",
   "execution_count": null,
   "metadata": {},
   "outputs": [],
   "source": [
    "ds"
   ]
  },
  {
   "cell_type": "code",
   "execution_count": null,
   "metadata": {},
   "outputs": [],
   "source": [
    "print(ds.nbytes/1e9)"
   ]
  },
  {
   "cell_type": "code",
   "execution_count": 3,
   "metadata": {},
   "outputs": [],
   "source": [
    "ds_sorted=ds.sortby('time_counter')"
   ]
  },
  {
   "cell_type": "markdown",
   "metadata": {},
   "source": [
    "### Selecting time frame and 1 point"
   ]
  },
  {
   "cell_type": "code",
   "execution_count": 4,
   "metadata": {},
   "outputs": [],
   "source": [
    "ssh_FMA=ds_sorted.sel(time_counter=slice('2010-02-01','2010-04-30'))['sossheig']\n",
    "ssh_FMA_1pt=ssh_FMA[:,2000,4000]\n",
    "ssh_ASO=ds_sorted.sel(time_counter=slice('2009-08-01','2009-10-31'))['sossheig']\n",
    "ssh_ASO_1pt=ssh_ASO[:,2000,4000]"
   ]
  },
  {
   "cell_type": "markdown",
   "metadata": {},
   "source": [
    "### Xarray plotting capabilities"
   ]
  },
  {
   "cell_type": "code",
   "execution_count": null,
   "metadata": {},
   "outputs": [],
   "source": [
    "ssh_FMA[12].plot()\n",
    "plt.scatter(4000,2000,marker='x')"
   ]
  },
  {
   "cell_type": "code",
   "execution_count": null,
   "metadata": {},
   "outputs": [],
   "source": [
    "ssh_FMA_1pt.plot()"
   ]
  },
  {
   "cell_type": "code",
   "execution_count": null,
   "metadata": {},
   "outputs": [],
   "source": [
    "ssh_FMA_1pt.plot(label='full data')\n",
    "ssh_FMA_1pt.rolling(time_counter=24,center=True).mean().plot(label='rolling daily mean')"
   ]
  },
  {
   "cell_type": "markdown",
   "metadata": {},
   "source": [
    "## FFT decomposition and power spectral density computation"
   ]
  },
  {
   "cell_type": "code",
   "execution_count": null,
   "metadata": {},
   "outputs": [],
   "source": [
    "NPADDING = 2\n",
    "SPtime_FMA = xfft.fft(ssh_FMA_1pt, dim='time_counter', dx=1., detrend='mean',nfft=ssh_FMA_1pt.shape[0]*NPADDING,tapering=True)\n",
    "MEANPSD_FMA=xfft.psd(SPtime_FMA).load()\n",
    "freqs_FMA=MEANPSD_FMA.f_time_counter.values\n",
    "freqs_FMA = freqs_FMA[NPADDING::] \n",
    "\n",
    "SPtime_ASO = xfft.fft(ssh_ASO_1pt, dim='time_counter', dx=1., detrend='mean',nfft=ssh_ASO_1pt.shape[0]*NPADDING,tapering=True)\n",
    "MEANPSD_ASO=xfft.psd(SPtime_ASO).load()\n",
    "freqs_ASO=MEANPSD_ASO.f_time_counter.values\n",
    "freqs_ASO = freqs_ASO[NPADDING::] \n"
   ]
  },
  {
   "cell_type": "code",
   "execution_count": null,
   "metadata": {},
   "outputs": [],
   "source": [
    "fig = plt.figure(facecolor='white')\n",
    "ax = fig.add_subplot(111)\n",
    "\n",
    "ax.loglog(freqs_FMA,MEANPSD_FMA[NPADDING::],'k',label='winter')\n",
    "ax.loglog(freqs_ASO,MEANPSD_ASO[NPADDING::],'r',label='summer')\n",
    "ax.set_xlim(1e-3,1)\n",
    "ax.grid(which='both',axis='both')\n",
    "plt.xlabel('Frequency (cpd)')\n",
    "plt.ylabel('PSD (m2/cpd)')\n",
    "plt.legend()\n",
    "plt.title('Temporal Spectrum of SSH at one point')"
   ]
  },
  {
   "cell_type": "markdown",
   "metadata": {},
   "source": [
    "## Same computation for 100x100 points"
   ]
  },
  {
   "cell_type": "markdown",
   "metadata": {},
   "source": [
    "### Computational ressources"
   ]
  },
  {
   "cell_type": "code",
   "execution_count": 9,
   "metadata": {},
   "outputs": [
    {
     "data": {
      "application/vnd.jupyter.widget-view+json": {
       "model_id": "204bcd336f2445f7ae11e91a15d266db",
       "version_major": 2,
       "version_minor": 0
      },
      "text/plain": [
       "VBox(children=(HTML(value='<h2>SLURMCluster</h2>'), HBox(children=(HTML(value='\\n<div>\\n  <style scoped>\\n    …"
      ]
     },
     "metadata": {},
     "output_type": "display_data"
    }
   ],
   "source": [
    "from dask_jobqueue import SLURMCluster \n",
    "from dask.distributed import Client \n",
    "  \n",
    "cluster = SLURMCluster(cores=28,name='demo',walltime='00:30:00',job_extra=['--constraint=HSW24','--exclusive','--nodes=1'],memory='120GB',interface='ib0') \n",
    "cluster.scale(196)\n",
    "cluster"
   ]
  },
  {
   "cell_type": "code",
   "execution_count": 10,
   "metadata": {},
   "outputs": [
    {
     "data": {
      "text/html": [
       "<table style=\"border: 2px solid white;\">\n",
       "<tr>\n",
       "<td style=\"vertical-align: top; border: 0px solid white\">\n",
       "<h3>Client</h3>\n",
       "<ul>\n",
       "  <li><b>Scheduler: </b>tcp://172.30.100.1:32785\n",
       "  <li><b>Dashboard: </b><a href='http://172.30.100.1:44174/status' target='_blank'>http://172.30.100.1:44174/status</a>\n",
       "</ul>\n",
       "</td>\n",
       "<td style=\"vertical-align: top; border: 0px solid white\">\n",
       "<h3>Cluster</h3>\n",
       "<ul>\n",
       "  <li><b>Workers: </b>0</li>\n",
       "  <li><b>Cores: </b>0</li>\n",
       "  <li><b>Memory: </b>0 B</li>\n",
       "</ul>\n",
       "</td>\n",
       "</tr>\n",
       "</table>"
      ],
      "text/plain": [
       "<Client: scheduler='tcp://172.30.100.1:32785' processes=0 cores=0>"
      ]
     },
     "execution_count": 10,
     "metadata": {},
     "output_type": "execute_result"
    }
   ],
   "source": [
    "from dask.distributed import Client\n",
    "client = Client(cluster)\n",
    "client"
   ]
  },
  {
   "cell_type": "code",
   "execution_count": 11,
   "metadata": {},
   "outputs": [
    {
     "name": "stdout",
     "output_type": "stream",
     "text": [
      "             JOBID PARTITION     NAME     USER ST       TIME  NODES NODELIST(REASON)\r\n",
      "           7591846      allc     demo albert7a PD       0:00      1 (Priority)\r\n",
      "           7591847      allc     demo albert7a PD       0:00      1 (Priority)\r\n",
      "           7591844      allc     demo albert7a PD       0:00      1 (Priority)\r\n",
      "           7591845      allc     demo albert7a PD       0:00      1 (Priority)\r\n",
      "           7591843      allc     demo albert7a PD       0:00      1 (Priority)\r\n",
      "           7591841      allc     demo albert7a PD       0:00      1 (Priority)\r\n",
      "           7591842      allc     demo albert7a PD       0:00      1 (Priority)\r\n",
      "           7591151       all    zsrst albert7a PD       0:00      1 (Resources)\r\n",
      "           7591154       all zmergxio albert7a PD       0:00      1 (Resources)\r\n",
      "           7591182       all    zsrst albert7a PD       0:00      1 (Resources)\r\n",
      "           7591184       all zmergxio albert7a PD       0:00      1 (Resources)\r\n",
      "           7591211       all    zsrst albert7a PD       0:00      1 (Resources)\r\n",
      "           7591213       all zmergxio albert7a PD       0:00      1 (Resources)\r\n",
      "           7591225       all    zsrst albert7a PD       0:00      1 (Resources)\r\n",
      "           7591227       all zmergxio albert7a PD       0:00      1 (Resources)\r\n",
      "           7591245       all    zsrst albert7a PD       0:00      1 (Resources)\r\n",
      "           7591247       all zmergxio albert7a PD       0:00      1 (Resources)\r\n",
      "           7591264       all    zsrst albert7a PD       0:00      1 (Resources)\r\n",
      "           7591265       all zmergxio albert7a PD       0:00      1 (Resources)\r\n"
     ]
    }
   ],
   "source": [
    "!squeue -u albert7a"
   ]
  },
  {
   "cell_type": "markdown",
   "metadata": {},
   "source": [
    "### Data selection"
   ]
  },
  {
   "cell_type": "code",
   "execution_count": null,
   "metadata": {},
   "outputs": [],
   "source": [
    "ssh_FMA_reg=ssh_FMA[:,2000:2100,4000:4100]\n",
    "ssh_ASO_reg=ssh_ASO[:,2000:2100,4000:4100]\n",
    "ssh_FMA[12].plot()\n",
    "plt.plot([4000, 4100], [2000, 2000])\n",
    "plt.plot([4000, 4100], [2100, 2100])\n",
    "plt.plot([4000, 4000], [2000, 2100])\n",
    "plt.plot([4100, 4100], [2000, 2100])\n"
   ]
  },
  {
   "cell_type": "code",
   "execution_count": null,
   "metadata": {},
   "outputs": [],
   "source": [
    "NPADDING = 2\n",
    "SPtime_FMA = xfft.fft(ssh_FMA_reg, dim='time_counter', dx=1., detrend='mean',nfft=ssh_FMA_reg.shape[0]*NPADDING,tapering=True)\n",
    "MEANPSD_FMA=xfft.psd(SPtime_FMA).mean(dim='x').mean(dim='y').load()\n",
    "freqs_FMA=MEANPSD_FMA.f_time_counter.values\n",
    "freqs_FMA = freqs_FMA[NPADDING::] \n",
    "\n",
    "SPtime_ASO = xfft.fft(ssh_ASO_reg, dim='time_counter', dx=1., detrend='mean',nfft=ssh_ASO_reg.shape[0]*NPADDING,tapering=True)\n",
    "MEANPSD_ASO=xfft.psd(SPtime_ASO).mean(dim='x').mean(dim='y').load()\n",
    "freqs_ASO=MEANPSD_ASO.f_time_counter.values\n",
    "freqs_ASO = freqs_ASO[NPADDING::] \n"
   ]
  },
  {
   "cell_type": "code",
   "execution_count": null,
   "metadata": {},
   "outputs": [],
   "source": [
    "fig = plt.figure(facecolor='white')\n",
    "ax = fig.add_subplot(111)\n",
    "\n",
    "ax.loglog(freqs_FMA,MEANPSD_FMA[NPADDING::],'k',label='winter')\n",
    "ax.loglog(freqs_ASO,MEANPSD_ASO[NPADDING::],'r',label='summer')\n",
    "ax.set_xlim(1e-3,1)\n",
    "ax.grid(which='both',axis='both')\n",
    "plt.xlabel('Frequency (cpd)')\n",
    "plt.ylabel('PSD (m2/cpd)')\n",
    "plt.legend()\n",
    "plt.title('Temporal Spectrum of SSH at one point')"
   ]
  },
  {
   "cell_type": "code",
   "execution_count": null,
   "metadata": {},
   "outputs": [],
   "source": []
  }
 ],
 "metadata": {
  "kernelspec": {
   "display_name": "Python 3",
   "language": "python",
   "name": "python3"
  },
  "language_info": {
   "codemirror_mode": {
    "name": "ipython",
    "version": 3
   },
   "file_extension": ".py",
   "mimetype": "text/x-python",
   "name": "python",
   "nbconvert_exporter": "python",
   "pygments_lexer": "ipython3",
   "version": "3.7.3"
  }
 },
 "nbformat": 4,
 "nbformat_minor": 2
}
